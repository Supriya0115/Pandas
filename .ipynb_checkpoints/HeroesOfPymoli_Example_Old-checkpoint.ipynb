{
 "cells": [
  {
   "cell_type": "markdown",
   "metadata": {},
   "source": [
    "# Heroes Of Pymoli Data Analysis\n",
    "* Of the 1163 active players, the vast majority are male (82%). There also exists, a smaller, but notable proportion of female players (16%).\n",
    "\n",
    "* Our peak age demographic falls between 20-24 (42%) with secondary groups falling between 15-19 (17.80%) and 25-29 (15.48%).\n",
    "\n",
    "* Our players are putting in significant cash during the lifetime of their gameplay. Across all major age and gender demographics, the average purchase for a user is roughly $491.   \n",
    "-----"
   ]
  },
  {
   "cell_type": "code",
   "execution_count": 2,
   "metadata": {
    "collapsed": false
   },
   "outputs": [
    {
     "data": {
      "text/html": [
       "<div>\n",
       "<table border=\"1\" class=\"dataframe\">\n",
       "  <thead>\n",
       "    <tr style=\"text-align: right;\">\n",
       "      <th></th>\n",
       "      <th>Age</th>\n",
       "      <th>Gender</th>\n",
       "      <th>Item ID</th>\n",
       "      <th>Item Name</th>\n",
       "      <th>Price</th>\n",
       "      <th>SN</th>\n",
       "    </tr>\n",
       "  </thead>\n",
       "  <tbody>\n",
       "    <tr>\n",
       "      <th>0</th>\n",
       "      <td>38</td>\n",
       "      <td>Male</td>\n",
       "      <td>165</td>\n",
       "      <td>Bone Crushing Silver Skewer</td>\n",
       "      <td>3.37</td>\n",
       "      <td>Aelalis34</td>\n",
       "    </tr>\n",
       "    <tr>\n",
       "      <th>1</th>\n",
       "      <td>21</td>\n",
       "      <td>Male</td>\n",
       "      <td>119</td>\n",
       "      <td>Stormbringer, Dark Blade of Ending Misery</td>\n",
       "      <td>2.32</td>\n",
       "      <td>Eolo46</td>\n",
       "    </tr>\n",
       "    <tr>\n",
       "      <th>2</th>\n",
       "      <td>34</td>\n",
       "      <td>Male</td>\n",
       "      <td>174</td>\n",
       "      <td>Primitive Blade</td>\n",
       "      <td>2.46</td>\n",
       "      <td>Assastnya25</td>\n",
       "    </tr>\n",
       "    <tr>\n",
       "      <th>3</th>\n",
       "      <td>21</td>\n",
       "      <td>Male</td>\n",
       "      <td>92</td>\n",
       "      <td>Final Critic</td>\n",
       "      <td>1.36</td>\n",
       "      <td>Pheusrical25</td>\n",
       "    </tr>\n",
       "    <tr>\n",
       "      <th>4</th>\n",
       "      <td>23</td>\n",
       "      <td>Male</td>\n",
       "      <td>63</td>\n",
       "      <td>Stormfury Mace</td>\n",
       "      <td>1.27</td>\n",
       "      <td>Aela59</td>\n",
       "    </tr>\n",
       "  </tbody>\n",
       "</table>\n",
       "</div>"
      ],
      "text/plain": [
       "   Age Gender  Item ID                                  Item Name  Price  \\\n",
       "0   38   Male      165                Bone Crushing Silver Skewer   3.37   \n",
       "1   21   Male      119  Stormbringer, Dark Blade of Ending Misery   2.32   \n",
       "2   34   Male      174                            Primitive Blade   2.46   \n",
       "3   21   Male       92                               Final Critic   1.36   \n",
       "4   23   Male       63                             Stormfury Mace   1.27   \n",
       "\n",
       "             SN  \n",
       "0     Aelalis34  \n",
       "1        Eolo46  \n",
       "2   Assastnya25  \n",
       "3  Pheusrical25  \n",
       "4        Aela59  "
      ]
     },
     "execution_count": 2,
     "metadata": {},
     "output_type": "execute_result"
    }
   ],
   "source": [
    "#Import pandas library for data analysis\n",
    "\n",
    "import pandas as pd\n",
    "\n",
    "#Create reference for holding json file\n",
    "\n",
    "json_path = \"Resources/purchase_data.json\"\n",
    "\n",
    "# Import the json into a pandas DataFrame\n",
    "\n",
    "Pymoli_df = pd.read_json(json_path)\n",
    "\n",
    "Pymoli_df.head()"
   ]
  },
  {
   "cell_type": "markdown",
   "metadata": {},
   "source": [
    "## Player Count"
   ]
  },
  {
   "cell_type": "code",
   "execution_count": null,
   "metadata": {
    "collapsed": false
   },
   "outputs": [],
   "source": [
    "#A dictionary containing a single list element converted to a dataframe\n",
    "\n",
    "Total_Players_DF = pd.DataFrame({\"Total Players\":[Pymoli_df[\"SN\"].nunique()]})\n",
    "\n",
    "Total_Players_DF"
   ]
  },
  {
   "cell_type": "markdown",
   "metadata": {},
   "source": [
    "## Purchasing Analysis (Total)"
   ]
  },
  {
   "cell_type": "code",
   "execution_count": 64,
   "metadata": {
    "collapsed": false,
    "scrolled": true
   },
   "outputs": [
    {
     "data": {
      "text/html": [
       "<div>\n",
       "<table border=\"1\" class=\"dataframe\">\n",
       "  <thead>\n",
       "    <tr style=\"text-align: right;\">\n",
       "      <th></th>\n",
       "      <th>Number of Unique Items</th>\n",
       "      <th>Average Price</th>\n",
       "      <th>Number of Purchases</th>\n",
       "      <th>Total Revenue</th>\n",
       "    </tr>\n",
       "  </thead>\n",
       "  <tbody>\n",
       "    <tr>\n",
       "      <th>0</th>\n",
       "      <td>179</td>\n",
       "      <td>$2.93</td>\n",
       "      <td>780</td>\n",
       "      <td>$2,286.33</td>\n",
       "    </tr>\n",
       "  </tbody>\n",
       "</table>\n",
       "</div>"
      ],
      "text/plain": [
       "   Number of Unique Items  Average Price  Number of Purchases  Total Revenue\n",
       "0                     179          $2.93                  780      $2,286.33"
      ]
     },
     "execution_count": 64,
     "metadata": {},
     "output_type": "execute_result"
    }
   ],
   "source": [
    "#A dictionary containing lists converted to a dataframe\n",
    "\n",
    "\n",
    "Purchasing_Analysis_DF = pd.DataFrame(\n",
    "                                    \n",
    "    {\"Number of Unique Items\" : [Pymoli_df[\"Item Name\"].nunique()],\n",
    "                                     \n",
    "     \"Average Price\" : [Pymoli_df[\"Price\"].mean()],\n",
    "     \n",
    "     \"Number of Purchases\" : [Pymoli_df[\"Item ID\"].count()],\n",
    "     \n",
    "      \"Total Revenue\" : [Pymoli_df[\"Price\"].sum()]\n",
    "    }\n",
    ")\n",
    "\n",
    "\n",
    "\n",
    "# Format float values to 2 decimal places,add a comma, and prefix amounts with $\n",
    "\n",
    "pd.options.display.float_format = '${:,.2f}'.format\n",
    "\n",
    "Purchasing_Analysis_DF_Ordered = Purchasing_Analysis_DF[[\n",
    "    \"Number of Unique Items\",\"Average Price\",\"Number of Purchases\",\"Total Revenue\"]]\n",
    "\n",
    "Purchasing_Analysis_DF_Ordered"
   ]
  },
  {
   "cell_type": "markdown",
   "metadata": {},
   "source": [
    "## Gender Demographics"
   ]
  },
  {
   "cell_type": "code",
   "execution_count": 89,
   "metadata": {
    "collapsed": false
   },
   "outputs": [
    {
     "data": {
      "text/html": [
       "<div>\n",
       "<table border=\"1\" class=\"dataframe\">\n",
       "  <thead>\n",
       "    <tr style=\"text-align: right;\">\n",
       "      <th></th>\n",
       "      <th>Percentage of Players</th>\n",
       "      <th>Total Count</th>\n",
       "    </tr>\n",
       "  </thead>\n",
       "  <tbody>\n",
       "    <tr>\n",
       "      <th>Male</th>\n",
       "      <td>81.15</td>\n",
       "      <td>633</td>\n",
       "    </tr>\n",
       "    <tr>\n",
       "      <th>Female</th>\n",
       "      <td>17.44</td>\n",
       "      <td>136</td>\n",
       "    </tr>\n",
       "    <tr>\n",
       "      <th>Other / Non-Disclosed</th>\n",
       "      <td>1.41</td>\n",
       "      <td>11</td>\n",
       "    </tr>\n",
       "  </tbody>\n",
       "</table>\n",
       "</div>"
      ],
      "text/plain": [
       "                       Percentage of Players  Total Count\n",
       "Male                                   81.15          633\n",
       "Female                                 17.44          136\n",
       "Other / Non-Disclosed                   1.41           11"
      ]
     },
     "execution_count": 89,
     "metadata": {},
     "output_type": "execute_result"
    }
   ],
   "source": [
    "# Reset formatting\n",
    "\n",
    "pd.options.display.float_format = '{:,.2f}'.format\n",
    "\n",
    "# Convert Gender value_counts()  to data frame, calculate percentage of players, and add a new column to data frame\n",
    "\n",
    "Gender_Demo_DF = pd.DataFrame(Pymoli_df[\"Gender\"].value_counts())\n",
    "\n",
    "Percentage_of_Players = (Pymoli_df[\"Gender\"].value_counts()/Pymoli_df[\"Gender\"].count()) * 100 \n",
    "\n",
    "Gender_Demo_DF[\"Percentage of Players\"] = Percentage_of_Players \n",
    "\n",
    "# Rename and Reorganize the columns\n",
    "\n",
    "Gender_Demo_DF = Gender_Demo_DF.rename(columns = {\"Gender\": \"Total Count\"})\n",
    "\n",
    "Gender_Demo_DF_Organized_Renamed = Gender_Demo_DF[[\"Percentage of Players\",\"Total Count\"]]\n",
    "\n",
    "Gender_Demo_DF_Organized_Renamed"
   ]
  },
  {
   "cell_type": "markdown",
   "metadata": {},
   "source": [
    "\n",
    "## Purchasing Analysis (Gender)"
   ]
  },
  {
   "cell_type": "code",
   "execution_count": 72,
   "metadata": {
    "collapsed": false
   },
   "outputs": [
    {
     "data": {
      "text/html": [
       "<div>\n",
       "<table border=\"1\" class=\"dataframe\">\n",
       "  <thead>\n",
       "    <tr style=\"text-align: right;\">\n",
       "      <th></th>\n",
       "      <th>Purchase Count</th>\n",
       "      <th>Average Purchase Price</th>\n",
       "      <th>Total Purchase Price</th>\n",
       "      <th>Normalized Totals</th>\n",
       "    </tr>\n",
       "    <tr>\n",
       "      <th>Gender</th>\n",
       "      <th></th>\n",
       "      <th></th>\n",
       "      <th></th>\n",
       "      <th></th>\n",
       "    </tr>\n",
       "  </thead>\n",
       "  <tbody>\n",
       "    <tr>\n",
       "      <th>Female</th>\n",
       "      <td>136</td>\n",
       "      <td>$2.82</td>\n",
       "      <td>$382.91</td>\n",
       "      <td>$2.82</td>\n",
       "    </tr>\n",
       "    <tr>\n",
       "      <th>Male</th>\n",
       "      <td>633</td>\n",
       "      <td>$2.95</td>\n",
       "      <td>$1,867.68</td>\n",
       "      <td>$2.95</td>\n",
       "    </tr>\n",
       "    <tr>\n",
       "      <th>Other / Non-Disclosed</th>\n",
       "      <td>11</td>\n",
       "      <td>$3.25</td>\n",
       "      <td>$35.74</td>\n",
       "      <td>$3.25</td>\n",
       "    </tr>\n",
       "  </tbody>\n",
       "</table>\n",
       "</div>"
      ],
      "text/plain": [
       "                       Purchase Count  Average Purchase Price  \\\n",
       "Gender                                                          \n",
       "Female                            136                   $2.82   \n",
       "Male                              633                   $2.95   \n",
       "Other / Non-Disclosed              11                   $3.25   \n",
       "\n",
       "                       Total Purchase Price  Normalized Totals  \n",
       "Gender                                                          \n",
       "Female                              $382.91              $2.82  \n",
       "Male                              $1,867.68              $2.95  \n",
       "Other / Non-Disclosed                $35.74              $3.25  "
      ]
     },
     "execution_count": 72,
     "metadata": {},
     "output_type": "execute_result"
    }
   ],
   "source": [
    "# Format float values to 2 decimal places,add a comma, and prefix amounts with $\n",
    "\n",
    "pd.options.display.float_format = '${:,.2f}'.format\n",
    "\n",
    "Purchasing_Analysis_Summary= Pymoli_df.groupby([\"Gender\"])\n",
    "\n",
    "Total_Purchase_Value = Purchasing_Analysis_Summary[\"Price\"].sum()\n",
    "\n",
    "Average_Purchase_Price = Purchasing_Analysis_Summary[\"Price\"].sum() / Purchasing_Analysis_Summary[\"Gender\"].count()\n",
    "\n",
    "# Creating a new dataframe\n",
    "\n",
    "Purchasing_Analysis_Summary_Gender = pd.DataFrame({\"Purchase Count\" : Purchasing_Analysis_Summary[\"Gender\"].count(),\n",
    "                                             \"Average Purchase Price\" : Average_Purchase_Price,\n",
    "                                             \"Total Purchase Price\" : Total_Purchase_Value,\n",
    "                                             \"Normalized Totals\" : Average_Purchase_Price})\n",
    "\n",
    "# Reorder columns of the dataframe and display\n",
    "\n",
    "Purchasing_Analysis_Summary_Gender[[\"Purchase Count\",\"Average Purchase Price\",\"Total Purchase Price\",\"Normalized Totals\"]]\n"
   ]
  },
  {
   "cell_type": "code",
   "execution_count": 5,
   "metadata": {
    "collapsed": false
   },
   "outputs": [
    {
     "data": {
      "text/html": [
       "<div>\n",
       "<style scoped>\n",
       "    .dataframe tbody tr th:only-of-type {\n",
       "        vertical-align: middle;\n",
       "    }\n",
       "\n",
       "    .dataframe tbody tr th {\n",
       "        vertical-align: top;\n",
       "    }\n",
       "\n",
       "    .dataframe thead th {\n",
       "        text-align: right;\n",
       "    }\n",
       "</style>\n",
       "<table border=\"1\" class=\"dataframe\">\n",
       "  <thead>\n",
       "    <tr style=\"text-align: right;\">\n",
       "      <th></th>\n",
       "      <th>Purchase Count</th>\n",
       "      <th>Average Purchase Price</th>\n",
       "      <th>Total Purchase Value</th>\n",
       "      <th>Normalized Totals</th>\n",
       "    </tr>\n",
       "    <tr>\n",
       "      <th>Gender</th>\n",
       "      <th></th>\n",
       "      <th></th>\n",
       "      <th></th>\n",
       "      <th></th>\n",
       "    </tr>\n",
       "  </thead>\n",
       "  <tbody>\n",
       "    <tr>\n",
       "      <th>Female</th>\n",
       "      <td>136</td>\n",
       "      <td>$2.82</td>\n",
       "      <td>$382.91</td>\n",
       "      <td>$3.83</td>\n",
       "    </tr>\n",
       "    <tr>\n",
       "      <th>Male</th>\n",
       "      <td>633</td>\n",
       "      <td>$2.95</td>\n",
       "      <td>$1,867.68</td>\n",
       "      <td>$4.02</td>\n",
       "    </tr>\n",
       "    <tr>\n",
       "      <th>Other / Non-Disclosed</th>\n",
       "      <td>11</td>\n",
       "      <td>$3.25</td>\n",
       "      <td>$35.74</td>\n",
       "      <td>$4.47</td>\n",
       "    </tr>\n",
       "  </tbody>\n",
       "</table>\n",
       "</div>"
      ],
      "text/plain": [
       "                      Purchase Count Average Purchase Price  \\\n",
       "Gender                                                        \n",
       "Female                           136                  $2.82   \n",
       "Male                             633                  $2.95   \n",
       "Other / Non-Disclosed             11                  $3.25   \n",
       "\n",
       "                      Total Purchase Value Normalized Totals  \n",
       "Gender                                                        \n",
       "Female                             $382.91             $3.83  \n",
       "Male                             $1,867.68             $4.02  \n",
       "Other / Non-Disclosed               $35.74             $4.47  "
      ]
     },
     "execution_count": 5,
     "metadata": {},
     "output_type": "execute_result"
    }
   ],
   "source": []
  },
  {
   "cell_type": "markdown",
   "metadata": {},
   "source": [
    "## Age Demographics"
   ]
  },
  {
   "cell_type": "code",
   "execution_count": 257,
   "metadata": {
    "collapsed": false
   },
   "outputs": [
    {
     "data": {
      "text/html": [
       "<div>\n",
       "<table border=\"1\" class=\"dataframe\">\n",
       "  <thead>\n",
       "    <tr style=\"text-align: right;\">\n",
       "      <th></th>\n",
       "      <th>Percentage of Players</th>\n",
       "      <th>Total Count</th>\n",
       "    </tr>\n",
       "  </thead>\n",
       "  <tbody>\n",
       "    <tr>\n",
       "      <th>&lt;10</th>\n",
       "      <td>3.59</td>\n",
       "      <td>28</td>\n",
       "    </tr>\n",
       "    <tr>\n",
       "      <th>10-14</th>\n",
       "      <td>4.49</td>\n",
       "      <td>35</td>\n",
       "    </tr>\n",
       "    <tr>\n",
       "      <th>15-19</th>\n",
       "      <td>17.05</td>\n",
       "      <td>133</td>\n",
       "    </tr>\n",
       "    <tr>\n",
       "      <th>20-24</th>\n",
       "      <td>43.08</td>\n",
       "      <td>336</td>\n",
       "    </tr>\n",
       "    <tr>\n",
       "      <th>25-29</th>\n",
       "      <td>16.03</td>\n",
       "      <td>125</td>\n",
       "    </tr>\n",
       "    <tr>\n",
       "      <th>30-34</th>\n",
       "      <td>8.21</td>\n",
       "      <td>64</td>\n",
       "    </tr>\n",
       "    <tr>\n",
       "      <th>35-40</th>\n",
       "      <td>5.38</td>\n",
       "      <td>42</td>\n",
       "    </tr>\n",
       "    <tr>\n",
       "      <th>40+</th>\n",
       "      <td>2.18</td>\n",
       "      <td>17</td>\n",
       "    </tr>\n",
       "  </tbody>\n",
       "</table>\n",
       "</div>"
      ],
      "text/plain": [
       "       Percentage of Players  Total Count\n",
       "<10                     3.59           28\n",
       "10-14                   4.49           35\n",
       "15-19                  17.05          133\n",
       "20-24                  43.08          336\n",
       "25-29                  16.03          125\n",
       "30-34                   8.21           64\n",
       "35-40                   5.38           42\n",
       "40+                     2.18           17"
      ]
     },
     "execution_count": 257,
     "metadata": {},
     "output_type": "execute_result"
    }
   ],
   "source": [
    "# Calculate the count for each age bin using loc\n",
    "\n",
    "Less_than_10 = Pymoli_df.loc[Pymoli_df[\"Age\"] < 10, [\"Age\",\"Price\"]];Less_than_10\n",
    "\n",
    "Ten_to_14 = Pymoli_df.loc[(Pymoli_df[\"Age\"] >= 10) & (Pymoli_df[\"Age\"] <= 14), [\"Age\",\"Price\"]];Ten_to_14.count()\n",
    "\n",
    "Fifteen_to_19 = Pymoli_df.loc[(Pymoli_df[\"Age\"] >= 15) & (Pymoli_df[\"Age\"] <=19), [\"Age\",\"Price\"]];Fifteen_to_19.count()\n",
    "\n",
    "Twenty_to_24 = Pymoli_df.loc[(Pymoli_df[\"Age\"] >= 20) & (Pymoli_df[\"Age\"] <=24), [\"Age\",\"Price\"]];Twenty_to_24.count()\n",
    "\n",
    "TwentyFive_to_29 = Pymoli_df.loc[(Pymoli_df[\"Age\"] >= 25) & (Pymoli_df[\"Age\"] <=29), [\"Age\",\"Price\"]];TwentyFive_to_29.count()\n",
    "\n",
    "Thirty_to_34 = Pymoli_df.loc[(Pymoli_df[\"Age\"] >= 30) & (Pymoli_df[\"Age\"] <=34), [\"Age\",\"Price\"]];Thirty_to_34.count()\n",
    "\n",
    "ThirtyFive_to_39 = Pymoli_df.loc[(Pymoli_df[\"Age\"] >= 35) & (Pymoli_df[\"Age\"] <=39), [\"Age\",\"Price\"]];ThirtyFive_to_39.count()\n",
    "\n",
    "Forty_plus = Pymoli_df.loc[Pymoli_df[\"Age\"] >=40, [\"Age\",\"Price\"]];Forty_plus.count()\n",
    "\n",
    "# Name the indices for resulting data frame, column names transposed to indices\n",
    "\n",
    "Age_Bin_Count = { \"<10\" : Less_than_10.count(),\n",
    "              \"10-14\": Ten_to_14.count(),\n",
    "              \"15-19\": Fifteen_to_19.count(),\n",
    "              \"20-24\":Twenty_to_24.count(),\n",
    "              \"25-29\":TwentyFive_to_29.count(),\n",
    "              \"30-34\":Thirty_to_34.count(),\n",
    "              \"35-40\":ThirtyFive_to_39.count(),\n",
    "              \"40+\":Forty_plus.count()\n",
    "             }\n",
    "\n",
    "Age_Analysis_Summary = pd.DataFrame(Age_Bin_Count).transpose()[[\"Age\"]]; Age_Analysis_Summary\n",
    "\n",
    "\n",
    "\n",
    "# Rename column, introduce new column \"Percentage of Players\" and calculate the value, and display resulting dataframe\n",
    "\n",
    "Age_Analysis_Summary = Age_Analysis_Summary.rename(columns ={\"Age\": \"Total Count\"});Age_Analysis_Summary\n",
    "\n",
    "Age_Analysis_Summary[\"Percentage of Players\"] = (Age_Analysis_Summary[\"Total Count\"]/Age_Analysis_Summary[\"Total Count\"].sum()) * 100; Age_Analysis_Summary\n",
    "\n",
    "Age_Analysis_Summary_Reindexed = Age_Analysis_Summary.reindex(index =[\"<10\",\"10-14\",\"15-19\",\"20-24\",\"25-29\",\"30-34\",\"35-40\",\"40+\"])\n",
    "\n",
    "Age_Analysis_Summary_Reindexed[[\"Percentage of Players\",\"Total Count\"]]"
   ]
  },
  {
   "cell_type": "markdown",
   "metadata": {},
   "source": [
    "## Purchasing Analysis (Age)"
   ]
  },
  {
   "cell_type": "code",
   "execution_count": 268,
   "metadata": {
    "collapsed": false
   },
   "outputs": [
    {
     "data": {
      "text/html": [
       "<div>\n",
       "<table border=\"1\" class=\"dataframe\">\n",
       "  <thead>\n",
       "    <tr style=\"text-align: right;\">\n",
       "      <th></th>\n",
       "      <th>Purchase Count</th>\n",
       "      <th>Average Purchase Price</th>\n",
       "      <th>Total Purchase Value</th>\n",
       "      <th>Normalized Totals</th>\n",
       "    </tr>\n",
       "  </thead>\n",
       "  <tbody>\n",
       "    <tr>\n",
       "      <th>10-14</th>\n",
       "      <td>35</td>\n",
       "      <td>$2.38</td>\n",
       "      <td>$83.46</td>\n",
       "      <td>$0.09</td>\n",
       "    </tr>\n",
       "    <tr>\n",
       "      <th>15-19</th>\n",
       "      <td>133</td>\n",
       "      <td>$0.73</td>\n",
       "      <td>$96.95</td>\n",
       "      <td>$0.10</td>\n",
       "    </tr>\n",
       "    <tr>\n",
       "      <th>20-24</th>\n",
       "      <td>336</td>\n",
       "      <td>$1.15</td>\n",
       "      <td>$386.42</td>\n",
       "      <td>$0.42</td>\n",
       "    </tr>\n",
       "    <tr>\n",
       "      <th>25-29</th>\n",
       "      <td>125</td>\n",
       "      <td>$7.83</td>\n",
       "      <td>$978.77</td>\n",
       "      <td>$1.05</td>\n",
       "    </tr>\n",
       "    <tr>\n",
       "      <th>30-34</th>\n",
       "      <td>64</td>\n",
       "      <td>$5.79</td>\n",
       "      <td>$370.33</td>\n",
       "      <td>$0.39</td>\n",
       "    </tr>\n",
       "    <tr>\n",
       "      <th>35-40</th>\n",
       "      <td>42</td>\n",
       "      <td>$4.70</td>\n",
       "      <td>$197.25</td>\n",
       "      <td>$0.21</td>\n",
       "    </tr>\n",
       "    <tr>\n",
       "      <th>40+</th>\n",
       "      <td>17</td>\n",
       "      <td>$7.02</td>\n",
       "      <td>$119.40</td>\n",
       "      <td>$0.12</td>\n",
       "    </tr>\n",
       "    <tr>\n",
       "      <th>&lt;10</th>\n",
       "      <td>28</td>\n",
       "      <td>$1.92</td>\n",
       "      <td>$53.75</td>\n",
       "      <td>$0.06</td>\n",
       "    </tr>\n",
       "  </tbody>\n",
       "</table>\n",
       "</div>"
      ],
      "text/plain": [
       "       Purchase Count  Average Purchase Price  Total Purchase Value  \\\n",
       "10-14              35                   $2.38                $83.46   \n",
       "15-19             133                   $0.73                $96.95   \n",
       "20-24             336                   $1.15               $386.42   \n",
       "25-29             125                   $7.83               $978.77   \n",
       "30-34              64                   $5.79               $370.33   \n",
       "35-40              42                   $4.70               $197.25   \n",
       "40+                17                   $7.02               $119.40   \n",
       "<10                28                   $1.92                $53.75   \n",
       "\n",
       "       Normalized Totals  \n",
       "10-14              $0.09  \n",
       "15-19              $0.10  \n",
       "20-24              $0.42  \n",
       "25-29              $1.05  \n",
       "30-34              $0.39  \n",
       "35-40              $0.21  \n",
       "40+                $0.12  \n",
       "<10                $0.06  "
      ]
     },
     "execution_count": 268,
     "metadata": {},
     "output_type": "execute_result"
    }
   ],
   "source": [
    "# Format float values to 2 decimal places,add a comma, and prefix amounts with $\n",
    "\n",
    "pd.options.display.float_format = '${:,.2f}'.format\n",
    "\n",
    "Purchasing_Analysis_Age_DF[\"Purchase Count\"] = pd.DataFrame(Age_Analysis_Summary[\"Total Count\"])\n",
    "\n",
    "Purchasing_Analysis_Age_DF[\"Total Purchase Value\"] = [Less_than_10[\"Price\"].sum(),Ten_to_14[\"Price\"].sum(),Fifteen_to_19[\"Price\"].sum(),Twenty_to_24[\"Price\"].sum(),TwentyFive_to_29[\"Price\"].sum(),Thirty_to_34[\"Price\"].sum(),ThirtyFive_to_39[\"Price\"].sum(),Forty_plus[\"Price\"].sum()]\n",
    "\n",
    "Purchasing_Analysis_Age_DF[\"Average Purchase Price\"] = Purchasing_Analysis_Age_DF[\"Total Purchase Value\"]/Purchasing_Analysis_Age_DF[\"Total Count\"]\n",
    "\n",
    "Purchasing_Analysis_Age_DF[\"Normalized Totals\"] = (Purchasing_Analysis_Age_DF[\"Total Purchase Value\"] - Purchasing_Analysis_Age_DF[\"Average Purchase Price\"]) / (Purchasing_Analysis_Age_DF[\"Total Purchase Value\"].max() - Purchasing_Analysis_Age_DF[\"Total Purchase Value\"].min())\n",
    "\n",
    "Purchasing_Analysis_Age_DF[[\"Purchase Count\",\"Average Purchase Price\",\"Total Purchase Value\",\"Normalized Totals\"]]"
   ]
  },
  {
   "cell_type": "code",
   "execution_count": 7,
   "metadata": {
    "collapsed": false
   },
   "outputs": [
    {
     "data": {
      "text/html": [
       "<div>\n",
       "<style scoped>\n",
       "    .dataframe tbody tr th:only-of-type {\n",
       "        vertical-align: middle;\n",
       "    }\n",
       "\n",
       "    .dataframe tbody tr th {\n",
       "        vertical-align: top;\n",
       "    }\n",
       "\n",
       "    .dataframe thead th {\n",
       "        text-align: right;\n",
       "    }\n",
       "</style>\n",
       "<table border=\"1\" class=\"dataframe\">\n",
       "  <thead>\n",
       "    <tr style=\"text-align: right;\">\n",
       "      <th></th>\n",
       "      <th>Purchase Count</th>\n",
       "      <th>Average Purchase Price</th>\n",
       "      <th>Total Purchase Value</th>\n",
       "      <th>Normalized Totals</th>\n",
       "    </tr>\n",
       "  </thead>\n",
       "  <tbody>\n",
       "    <tr>\n",
       "      <th>10-14</th>\n",
       "      <td>35</td>\n",
       "      <td>$2.77</td>\n",
       "      <td>$96.95</td>\n",
       "      <td>$4.22</td>\n",
       "    </tr>\n",
       "    <tr>\n",
       "      <th>15-19</th>\n",
       "      <td>133</td>\n",
       "      <td>$2.91</td>\n",
       "      <td>$386.42</td>\n",
       "      <td>$3.86</td>\n",
       "    </tr>\n",
       "    <tr>\n",
       "      <th>20-24</th>\n",
       "      <td>336</td>\n",
       "      <td>$2.91</td>\n",
       "      <td>$978.77</td>\n",
       "      <td>$3.78</td>\n",
       "    </tr>\n",
       "    <tr>\n",
       "      <th>25-29</th>\n",
       "      <td>125</td>\n",
       "      <td>$2.96</td>\n",
       "      <td>$370.33</td>\n",
       "      <td>$4.26</td>\n",
       "    </tr>\n",
       "    <tr>\n",
       "      <th>30-34</th>\n",
       "      <td>64</td>\n",
       "      <td>$3.08</td>\n",
       "      <td>$197.25</td>\n",
       "      <td>$4.20</td>\n",
       "    </tr>\n",
       "    <tr>\n",
       "      <th>35-39</th>\n",
       "      <td>42</td>\n",
       "      <td>$2.84</td>\n",
       "      <td>$119.40</td>\n",
       "      <td>$4.42</td>\n",
       "    </tr>\n",
       "    <tr>\n",
       "      <th>40+</th>\n",
       "      <td>17</td>\n",
       "      <td>$3.16</td>\n",
       "      <td>$53.75</td>\n",
       "      <td>$4.89</td>\n",
       "    </tr>\n",
       "    <tr>\n",
       "      <th>&lt;10</th>\n",
       "      <td>28</td>\n",
       "      <td>$2.98</td>\n",
       "      <td>$83.46</td>\n",
       "      <td>$4.39</td>\n",
       "    </tr>\n",
       "  </tbody>\n",
       "</table>\n",
       "</div>"
      ],
      "text/plain": [
       "      Purchase Count Average Purchase Price Total Purchase Value  \\\n",
       "10-14             35                  $2.77               $96.95   \n",
       "15-19            133                  $2.91              $386.42   \n",
       "20-24            336                  $2.91              $978.77   \n",
       "25-29            125                  $2.96              $370.33   \n",
       "30-34             64                  $3.08              $197.25   \n",
       "35-39             42                  $2.84              $119.40   \n",
       "40+               17                  $3.16               $53.75   \n",
       "<10               28                  $2.98               $83.46   \n",
       "\n",
       "      Normalized Totals  \n",
       "10-14             $4.22  \n",
       "15-19             $3.86  \n",
       "20-24             $3.78  \n",
       "25-29             $4.26  \n",
       "30-34             $4.20  \n",
       "35-39             $4.42  \n",
       "40+               $4.89  \n",
       "<10               $4.39  "
      ]
     },
     "execution_count": 7,
     "metadata": {},
     "output_type": "execute_result"
    }
   ],
   "source": []
  },
  {
   "cell_type": "markdown",
   "metadata": {},
   "source": [
    "## Top Spenders"
   ]
  },
  {
   "cell_type": "code",
   "execution_count": 175,
   "metadata": {
    "collapsed": false
   },
   "outputs": [
    {
     "data": {
      "text/html": [
       "<div>\n",
       "<table border=\"1\" class=\"dataframe\">\n",
       "  <thead>\n",
       "    <tr style=\"text-align: right;\">\n",
       "      <th></th>\n",
       "      <th>Purchase Count</th>\n",
       "      <th>Average Purchase Price</th>\n",
       "      <th>Total Purchase Value</th>\n",
       "    </tr>\n",
       "    <tr>\n",
       "      <th>SN</th>\n",
       "      <th></th>\n",
       "      <th></th>\n",
       "      <th></th>\n",
       "    </tr>\n",
       "  </thead>\n",
       "  <tbody>\n",
       "    <tr>\n",
       "      <th>Undirrala66</th>\n",
       "      <td>5</td>\n",
       "      <td>$3.41</td>\n",
       "      <td>$17.06</td>\n",
       "    </tr>\n",
       "    <tr>\n",
       "      <th>Saedue76</th>\n",
       "      <td>4</td>\n",
       "      <td>$3.39</td>\n",
       "      <td>$13.56</td>\n",
       "    </tr>\n",
       "    <tr>\n",
       "      <th>Mindimnya67</th>\n",
       "      <td>4</td>\n",
       "      <td>$3.18</td>\n",
       "      <td>$12.74</td>\n",
       "    </tr>\n",
       "    <tr>\n",
       "      <th>Sondastan54</th>\n",
       "      <td>4</td>\n",
       "      <td>$2.56</td>\n",
       "      <td>$10.24</td>\n",
       "    </tr>\n",
       "    <tr>\n",
       "      <th>Hailaphos89</th>\n",
       "      <td>4</td>\n",
       "      <td>$1.47</td>\n",
       "      <td>$5.87</td>\n",
       "    </tr>\n",
       "  </tbody>\n",
       "</table>\n",
       "</div>"
      ],
      "text/plain": [
       "             Purchase Count  Average Purchase Price  Total Purchase Value\n",
       "SN                                                                       \n",
       "Undirrala66               5                   $3.41                $17.06\n",
       "Saedue76                  4                   $3.39                $13.56\n",
       "Mindimnya67               4                   $3.18                $12.74\n",
       "Sondastan54               4                   $2.56                $10.24\n",
       "Hailaphos89               4                   $1.47                 $5.87"
      ]
     },
     "execution_count": 175,
     "metadata": {},
     "output_type": "execute_result"
    }
   ],
   "source": [
    "Top_Spenders = Pymoli_df[\"SN\"].value_counts().index.tolist()[:5];Top_Spenders\n",
    "\n",
    "# df = Pymoli_df.set_index(\"SN\");df\n",
    "\n",
    "df = Pymoli_df.loc[(Pymoli_df[\"SN\"] == Top_Spenders[0]) | (Pymoli_df[\"SN\"] == Top_Spenders[1]) | (Pymoli_df[\"SN\"] == Top_Spenders[2])|(Pymoli_df[\"SN\"] == Top_Spenders[3])|(Pymoli_df[\"SN\"] == Top_Spenders[4]),:]; df\n",
    "\n",
    "g = df.groupby('SN'); \n",
    "Average_Purchase_Price = g[\"Price\"].mean();Average_Purchase_Price\n",
    "Total_Purchase_Price = g[\"Price\"].sum();Total_Purchase_Price\n",
    "Purchase_Count = g[\"SN\"].count();Purchase_Count\n",
    "\n",
    "new = pd.DataFrame(g.count());new\n",
    "\n",
    "new[\"Purchase Count\"] = Purchase_Count; new\n",
    "new[\"Total Purchase Value\"] = Total_Purchase_Price;new\n",
    "new[\"Average Purchase Price\"] = Average_Purchase_Price;new\n",
    "\n",
    "pd.options.display.float_format = '${:,.2f}'.format\n",
    "\n",
    "new_DF = new[[\"Purchase Count\",\"Average Purchase Price\",\"Total Purchase Value\"]]; new_DF.sort_values(\"Total Purchase Value\", ascending = False)\n",
    "\n"
   ]
  },
  {
   "cell_type": "code",
   "execution_count": null,
   "metadata": {
    "collapsed": true
   },
   "outputs": [],
   "source": []
  },
  {
   "cell_type": "markdown",
   "metadata": {},
   "source": [
    "## Most Popular Items"
   ]
  },
  {
   "cell_type": "code",
   "execution_count": 190,
   "metadata": {
    "collapsed": false
   },
   "outputs": [
    {
     "data": {
      "text/html": [
       "<div>\n",
       "<table border=\"1\" class=\"dataframe\">\n",
       "  <thead>\n",
       "    <tr style=\"text-align: right;\">\n",
       "      <th></th>\n",
       "      <th>Age</th>\n",
       "      <th>Gender</th>\n",
       "      <th>Item ID</th>\n",
       "      <th>Price</th>\n",
       "      <th>SN</th>\n",
       "    </tr>\n",
       "    <tr>\n",
       "      <th>Item Name</th>\n",
       "      <th></th>\n",
       "      <th></th>\n",
       "      <th></th>\n",
       "      <th></th>\n",
       "      <th></th>\n",
       "    </tr>\n",
       "  </thead>\n",
       "  <tbody>\n",
       "    <tr>\n",
       "      <th>Final Critic</th>\n",
       "      <td>14</td>\n",
       "      <td>14</td>\n",
       "      <td>14</td>\n",
       "      <td>14</td>\n",
       "      <td>14</td>\n",
       "    </tr>\n",
       "  </tbody>\n",
       "</table>\n",
       "</div>"
      ],
      "text/plain": [
       "              Age  Gender  Item ID  Price  SN\n",
       "Item Name                                    \n",
       "Final Critic   14      14       14     14  14"
      ]
     },
     "execution_count": 190,
     "metadata": {},
     "output_type": "execute_result"
    }
   ],
   "source": [
    "Popular_Items = Pymoli_df[\"Item Name\"].value_counts().index.tolist();Popular_Items\n",
    "df1 = Pymoli_df.loc[(Pymoli_df[\"Item Name\"] == Popular_Items[0]) | (Pymoli_df[\"SN\"] == Popular_Items[1]) | (Pymoli_df[\"SN\"] == Popular_Items[2])|(Pymoli_df[\"SN\"] == Popular_Items[3])|(Pymoli_df[\"SN\"] == Popular_Items[4]),:]; df1\n",
    "g1 = df1.groupby([\"Item Name\"]);g1.count()"
   ]
  },
  {
   "cell_type": "markdown",
   "metadata": {},
   "source": [
    "## Most Profitable Items"
   ]
  },
  {
   "cell_type": "code",
   "execution_count": null,
   "metadata": {
    "collapsed": true
   },
   "outputs": [],
   "source": []
  },
  {
   "cell_type": "code",
   "execution_count": 10,
   "metadata": {
    "collapsed": false,
    "scrolled": true
   },
   "outputs": [
    {
     "data": {
      "text/html": [
       "<div>\n",
       "<style scoped>\n",
       "    .dataframe tbody tr th:only-of-type {\n",
       "        vertical-align: middle;\n",
       "    }\n",
       "\n",
       "    .dataframe tbody tr th {\n",
       "        vertical-align: top;\n",
       "    }\n",
       "\n",
       "    .dataframe thead th {\n",
       "        text-align: right;\n",
       "    }\n",
       "</style>\n",
       "<table border=\"1\" class=\"dataframe\">\n",
       "  <thead>\n",
       "    <tr style=\"text-align: right;\">\n",
       "      <th></th>\n",
       "      <th></th>\n",
       "      <th>Purchase Count</th>\n",
       "      <th>Item Price</th>\n",
       "      <th>Total Purchase Value</th>\n",
       "    </tr>\n",
       "    <tr>\n",
       "      <th>Item ID</th>\n",
       "      <th>Item Name</th>\n",
       "      <th></th>\n",
       "      <th></th>\n",
       "      <th></th>\n",
       "    </tr>\n",
       "  </thead>\n",
       "  <tbody>\n",
       "    <tr>\n",
       "      <th>34</th>\n",
       "      <th>Retribution Axe</th>\n",
       "      <td>9</td>\n",
       "      <td>$4.14</td>\n",
       "      <td>$37.26</td>\n",
       "    </tr>\n",
       "    <tr>\n",
       "      <th>115</th>\n",
       "      <th>Spectral Diamond Doomblade</th>\n",
       "      <td>7</td>\n",
       "      <td>$4.25</td>\n",
       "      <td>$29.75</td>\n",
       "    </tr>\n",
       "    <tr>\n",
       "      <th>32</th>\n",
       "      <th>Orenmir</th>\n",
       "      <td>6</td>\n",
       "      <td>$4.95</td>\n",
       "      <td>$29.70</td>\n",
       "    </tr>\n",
       "    <tr>\n",
       "      <th>103</th>\n",
       "      <th>Singed Scalpel</th>\n",
       "      <td>6</td>\n",
       "      <td>$4.87</td>\n",
       "      <td>$29.22</td>\n",
       "    </tr>\n",
       "    <tr>\n",
       "      <th>107</th>\n",
       "      <th>Splitter, Foe Of Subtlety</th>\n",
       "      <td>8</td>\n",
       "      <td>$3.61</td>\n",
       "      <td>$28.88</td>\n",
       "    </tr>\n",
       "  </tbody>\n",
       "</table>\n",
       "</div>"
      ],
      "text/plain": [
       "                                   Purchase Count Item Price  \\\n",
       "Item ID Item Name                                              \n",
       "34      Retribution Axe                         9      $4.14   \n",
       "115     Spectral Diamond Doomblade              7      $4.25   \n",
       "32      Orenmir                                 6      $4.95   \n",
       "103     Singed Scalpel                          6      $4.87   \n",
       "107     Splitter, Foe Of Subtlety               8      $3.61   \n",
       "\n",
       "                                   Total Purchase Value  \n",
       "Item ID Item Name                                        \n",
       "34      Retribution Axe                          $37.26  \n",
       "115     Spectral Diamond Doomblade               $29.75  \n",
       "32      Orenmir                                  $29.70  \n",
       "103     Singed Scalpel                           $29.22  \n",
       "107     Splitter, Foe Of Subtlety                $28.88  "
      ]
     },
     "execution_count": 10,
     "metadata": {},
     "output_type": "execute_result"
    }
   ],
   "source": []
  },
  {
   "cell_type": "code",
   "execution_count": null,
   "metadata": {
    "collapsed": true
   },
   "outputs": [],
   "source": []
  }
 ],
 "metadata": {
  "anaconda-cloud": {},
  "kernelspec": {
   "display_name": "Python 3",
   "language": "python",
   "name": "python3"
  },
  "language_info": {
   "codemirror_mode": {
    "name": "ipython",
    "version": 3
   },
   "file_extension": ".py",
   "mimetype": "text/x-python",
   "name": "python",
   "nbconvert_exporter": "python",
   "pygments_lexer": "ipython3",
   "version": "3.6.0"
  },
  "nteract": {
   "version": "0.8.4"
  },
  "varInspector": {
   "cols": {
    "lenName": 16,
    "lenType": 16,
    "lenVar": 40
   },
   "kernels_config": {
    "python": {
     "delete_cmd_postfix": "",
     "delete_cmd_prefix": "del ",
     "library": "var_list.py",
     "varRefreshCmd": "print(var_dic_list())"
    },
    "r": {
     "delete_cmd_postfix": ") ",
     "delete_cmd_prefix": "rm(",
     "library": "var_list.r",
     "varRefreshCmd": "cat(var_dic_list()) "
    }
   },
   "types_to_exclude": [
    "module",
    "function",
    "builtin_function_or_method",
    "instance",
    "_Feature"
   ],
   "window_display": false
  }
 },
 "nbformat": 4,
 "nbformat_minor": 1
}
